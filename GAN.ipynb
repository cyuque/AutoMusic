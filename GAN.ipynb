{
  "nbformat": 4,
  "nbformat_minor": 0,
  "metadata": {
    "colab": {
      "name": "GAN.ipynb",
      "provenance": [],
      "collapsed_sections": [],
      "mount_file_id": "1zHuautUGD7tnYHwf28OSEB7smz_GcZ0r",
      "authorship_tag": "ABX9TyMNcb+5G2VFK5LKAozuNPx3",
      "include_colab_link": true
    },
    "kernelspec": {
      "name": "python3",
      "display_name": "Python 3"
    },
    "language_info": {
      "name": "python"
    },
    "accelerator": "GPU",
    "gpuClass": "standard"
  },
  "cells": [
    {
      "cell_type": "markdown",
      "metadata": {
        "id": "view-in-github",
        "colab_type": "text"
      },
      "source": [
        "<a href=\"https://colab.research.google.com/github/cyuque/AutoMusic/blob/main/GAN.ipynb\" target=\"_parent\"><img src=\"https://colab.research.google.com/assets/colab-badge.svg\" alt=\"Open In Colab\"/></a>"
      ]
    },
    {
      "cell_type": "code",
      "source": [
        "import torch\n",
        "vocoder = torch.hub.load('seungwonpark/melgan', 'melgan')\n",
        "vocoder.eval()\n",
        "mel = torch.randn(1, 80, 234) # use your own mel-spectrogram here\n",
        "\n",
        "if torch.cuda.is_available():\n",
        "    vocoder = vocoder.cuda()\n",
        "    mel = mel.cuda()\n",
        "\n",
        "with torch.no_grad():\n",
        "    audio = vocoder.inference(mel)"
      ],
      "metadata": {
        "id": "OmlNjTVwoY14",
        "colab": {
          "base_uri": "https://localhost:8080/"
        },
        "outputId": "01298592-16b6-4061-c1f6-db50dc5d1f38"
      },
      "execution_count": null,
      "outputs": [
        {
          "output_type": "stream",
          "name": "stderr",
          "text": [
            "Using cache found in /root/.cache/torch/hub/seungwonpark_melgan_master\n"
          ]
        }
      ]
    },
    {
      "cell_type": "code",
      "execution_count": null,
      "metadata": {
        "id": "OAQVfXBXmVfQ"
      },
      "outputs": [],
      "source": [
        "import os\n",
        "os.chdir('/content/drive/MyDrive/Colab Notebooks/melgan-master')\n",
        "!pip install -r requirements.txt"
      ]
    },
    {
      "cell_type": "code",
      "source": [
        "!pip install --upgrade tbb"
      ],
      "metadata": {
        "id": "u6ihOywI3YP4"
      },
      "execution_count": null,
      "outputs": []
    },
    {
      "cell_type": "code",
      "source": [
        "!python preprocess.py -c config/default.yaml -d MusicDataset"
      ],
      "metadata": {
        "id": "7Rj5CTF3rOie"
      },
      "execution_count": null,
      "outputs": []
    },
    {
      "cell_type": "code",
      "source": [
        "!git init"
      ],
      "metadata": {
        "colab": {
          "base_uri": "https://localhost:8080/"
        },
        "id": "Dg_RbLowHObS",
        "outputId": "e2cd1fd6-242f-453f-cc7a-4a6c74d2d7a8"
      },
      "execution_count": 5,
      "outputs": [
        {
          "output_type": "stream",
          "name": "stdout",
          "text": [
            "Initialized empty Git repository in /content/drive/MyDrive/Colab Notebooks/melgan-master/.git/\n"
          ]
        }
      ]
    },
    {
      "cell_type": "code",
      "source": [
        "!python trainer.py -c config/default.yaml -n run1"
      ],
      "metadata": {
        "colab": {
          "base_uri": "https://localhost:8080/"
        },
        "id": "oEXX-pmWrh44",
        "outputId": "ad58d722-3687-44b3-ce33-b8c6cf4bd62f"
      },
      "execution_count": 10,
      "outputs": [
        {
          "output_type": "stream",
          "name": "stdout",
          "text": [
            "/usr/local/lib/python3.7/dist-packages/torch/utils/data/dataloader.py:560: UserWarning: This DataLoader will create 32 worker processes in total. Our suggested max number of worker in current system is 2, which is smaller than what this DataLoader is going to create. Please be aware that excessive worker creation might get DataLoader running slow or even freeze, lower the worker number to avoid potential slowness/freeze if necessary.\n",
            "  cpuset_checked))\n",
            "2022-07-18 12:02:17,758 - INFO - Starting new training run.\n",
            "Validation loop: 100% 1/1 [00:02<00:00,  2.80s/it]\n",
            "Loading train data: 0it [00:00, ?it/s]/usr/local/lib/python3.7/dist-packages/torch/utils/data/dataloader.py:560: UserWarning: This DataLoader will create 32 worker processes in total. Our suggested max number of worker in current system is 2, which is smaller than what this DataLoader is going to create. Please be aware that excessive worker creation might get DataLoader running slow or even freeze, lower the worker number to avoid potential slowness/freeze if necessary.\n",
            "  cpuset_checked))\n",
            "Loading train data: 0it [00:01, ?it/s]\n",
            "2022-07-18 12:02:25,791 - INFO - Exiting due to exception: not enough arguments for format string\n",
            "Traceback (most recent call last):\n",
            "  File \"/content/drive/MyDrive/Colab Notebooks/melgan-master/utils/train.py\", line 116, in train\n",
            "    % (args.name,  epoch))\n",
            "TypeError: not enough arguments for format string\n"
          ]
        }
      ]
    }
  ]
}